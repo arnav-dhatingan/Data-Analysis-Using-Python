{
 "cells": [
  {
   "cell_type": "code",
   "execution_count": 1,
   "id": "f1970efd-0353-4859-982c-43599b045e85",
   "metadata": {},
   "outputs": [],
   "source": [
    "#Numpy and its functionalities\n",
    "import numpy as np"
   ]
  },
  {
   "cell_type": "code",
   "execution_count": 2,
   "id": "6cd6701b-e85c-49d6-9f6a-f38692b09364",
   "metadata": {},
   "outputs": [
    {
     "name": "stdout",
     "output_type": "stream",
     "text": [
      "[0 1 2 3 4]\n",
      "[1 2 3 4 5 6 7 8 9]\n",
      "[1 3 5 7 9]\n"
     ]
    }
   ],
   "source": [
    "#numpy.arange(stop)\n",
    "print(np.arange(5))\n",
    "#numpy.arange(start,stop)\n",
    "print(np.arange(1,10))\n",
    "#numpy.arange(start,stop,step)\n",
    "print(np.arange(1,10,2))"
   ]
  },
  {
   "cell_type": "code",
   "execution_count": 3,
   "id": "423cbf70-339c-469a-ba94-bbfbbdaf4218",
   "metadata": {},
   "outputs": [
    {
     "name": "stdout",
     "output_type": "stream",
     "text": [
      "[[2 4 3]\n",
      " [1 4 5]]\n"
     ]
    }
   ],
   "source": [
    "#Array using lists\n",
    "lst=[[2,4,3],[1,4,5]]\n",
    "x=np.array(lst)\n",
    "print(x)"
   ]
  },
  {
   "cell_type": "code",
   "execution_count": 4,
   "id": "29fe09a2-9f67-4419-b111-3db625b43be1",
   "metadata": {},
   "outputs": [
    {
     "name": "stdout",
     "output_type": "stream",
     "text": [
      "[[10 10]\n",
      " [10 10]]\n"
     ]
    }
   ],
   "source": [
    "#np.full\n",
    "full=np.full((2,2),10)\n",
    "print(full)"
   ]
  },
  {
   "cell_type": "code",
   "execution_count": 5,
   "id": "90a9150f-fd2c-453f-b761-06dd9f4ef828",
   "metadata": {},
   "outputs": [
    {
     "name": "stdout",
     "output_type": "stream",
     "text": [
      "[ 0.   2.5  5.   7.5 10. ]\n",
      "[ 0.   2.5  5.   7.5 10. ]\n",
      "[ 0.          0.20408163  0.40816327  0.6122449   0.81632653  1.02040816\n",
      "  1.2244898   1.42857143  1.63265306  1.83673469  2.04081633  2.24489796\n",
      "  2.44897959  2.65306122  2.85714286  3.06122449  3.26530612  3.46938776\n",
      "  3.67346939  3.87755102  4.08163265  4.28571429  4.48979592  4.69387755\n",
      "  4.89795918  5.10204082  5.30612245  5.51020408  5.71428571  5.91836735\n",
      "  6.12244898  6.32653061  6.53061224  6.73469388  6.93877551  7.14285714\n",
      "  7.34693878  7.55102041  7.75510204  7.95918367  8.16326531  8.36734694\n",
      "  8.57142857  8.7755102   8.97959184  9.18367347  9.3877551   9.59183673\n",
      "  9.79591837 10.        ]\n"
     ]
    }
   ],
   "source": [
    "#np.linspace\n",
    "\n",
    "print(np.linspace(0, 10, 5))\n",
    "print(np.linspace(0, 10, 5))\n",
    "print(np.linspace(0, 10,))"
   ]
  },
  {
   "cell_type": "code",
   "execution_count": 6,
   "id": "67064ece-823c-4bdb-99c0-477e2eda2fae",
   "metadata": {},
   "outputs": [
    {
     "name": "stdout",
     "output_type": "stream",
     "text": [
      "[[1. 1.]\n",
      " [1. 1.]]\n"
     ]
    }
   ],
   "source": [
    "#matrix full of 1s\n",
    "one=np.ones((2,2))\n",
    "print(one)"
   ]
  },
  {
   "cell_type": "code",
   "execution_count": 7,
   "id": "d229403d-d3bf-429e-80b9-24488869bbbe",
   "metadata": {},
   "outputs": [
    {
     "name": "stdout",
     "output_type": "stream",
     "text": [
      "[[0. 0.]\n",
      " [0. 0.]]\n"
     ]
    }
   ],
   "source": [
    "#Matrix full of 0s\n",
    "zero=np.zeros((2,2))\n",
    "print(zero)"
   ]
  },
  {
   "cell_type": "code",
   "execution_count": 8,
   "id": "5eba3359-2037-4e5d-aa31-df5ed8c020c7",
   "metadata": {},
   "outputs": [
    {
     "name": "stdout",
     "output_type": "stream",
     "text": [
      "ARRAY 1: [1 2 3 4]\n",
      "shape of array1: (4,)\n",
      "ARRAY 2: [[1 2 3 4]\n",
      " [6 7 8 9]]\n",
      "shape of array2: (2, 4)\n"
     ]
    }
   ],
   "source": [
    "#shape is the row and column of the matrix\n",
    "myarray1=np.array([1,2,3,4])\n",
    "myarray2=np.array([[1,2,3,4],[6,7,8,9]])\n",
    "print(\"ARRAY 1:\", myarray1)\n",
    "print(\"shape of array1:\", myarray1.shape)\n",
    "print(\"ARRAY 2:\", myarray2)\n",
    "print(\"shape of array2:\", myarray2.shape)"
   ]
  },
  {
   "cell_type": "code",
   "execution_count": 9,
   "id": "8d8f2f71-f98f-4203-8e65-3abf7b7b3d73",
   "metadata": {},
   "outputs": [
    {
     "name": "stdout",
     "output_type": "stream",
     "text": [
      "original array: [1 2 3 4 5 6 7 8]\n",
      "updated array: [20  2  3  4  5  6  7  8]\n"
     ]
    }
   ],
   "source": [
    "#changing array elemets using Indexing\n",
    "myarray=np.array([1,2,3,4,5,6,7,8])\n",
    "print(\"original array:\", myarray)\n",
    "\n",
    "myarray[0]=20\n",
    "print(\"updated array:\", myarray)"
   ]
  },
  {
   "cell_type": "code",
   "execution_count": 10,
   "id": "3c360ac7-f975-4105-91c1-207cd4759961",
   "metadata": {},
   "outputs": [
    {
     "name": "stdout",
     "output_type": "stream",
     "text": [
      "[[0.75446582 0.73207011 0.64386979]\n",
      " [0.6413358  0.58041004 0.98088213]\n",
      " [0.98940587 0.58013075 0.0894626 ]]\n"
     ]
    }
   ],
   "source": [
    "#function creates an array with random floats between the intervals.\n",
    "#you can also specify the size of your array. \n",
    "\n",
    "random=np.random.random((3,3))\n",
    "print(random)"
   ]
  },
  {
   "cell_type": "code",
   "execution_count": 11,
   "id": "980d3ae1-88ff-4168-8165-1cca1a5e4a1f",
   "metadata": {},
   "outputs": [
    {
     "name": "stdout",
     "output_type": "stream",
     "text": [
      "[[6 5 3]\n",
      " [3 7 6]\n",
      " [1 5 0]]\n"
     ]
    }
   ],
   "source": [
    "#function creates an array with random integers between a specified range.\n",
    "#you can also specify the size of your array\n",
    "\n",
    "integer=np.random.randint(0,10, (3,3))\n",
    "print(integer)"
   ]
  },
  {
   "cell_type": "code",
   "execution_count": 12,
   "id": "e0198af6-6088-4126-ae55-13f62bc0005d",
   "metadata": {},
   "outputs": [
    {
     "name": "stdout",
     "output_type": "stream",
     "text": [
      "[[1. 0.]\n",
      " [0. 1.]] \n",
      "\n",
      "[[1. 0. 0. 0. 0.]\n",
      " [0. 1. 0. 0. 0.]\n",
      " [0. 0. 1. 0. 0.]\n",
      " [0. 0. 0. 1. 0.]\n",
      " [0. 0. 0. 0. 1.]] \n",
      "\n"
     ]
    }
   ],
   "source": [
    "#since identity matrix is a square matrix, we just need 1 number to determine rows and columns.\n",
    "\n",
    "I_1=np.eye(2)\n",
    "print(I_1,\"\\n\")\n",
    "\n",
    "I_2=np.eye(5)\n",
    "print(I_2,\"\\n\")"
   ]
  },
  {
   "cell_type": "code",
   "execution_count": null,
   "id": "003b1fea-67b4-4c7f-8ac5-e05c21cfc465",
   "metadata": {},
   "outputs": [],
   "source": []
  }
 ],
 "metadata": {
  "kernelspec": {
   "display_name": "Python 3 (ipykernel)",
   "language": "python",
   "name": "python3"
  },
  "language_info": {
   "codemirror_mode": {
    "name": "ipython",
    "version": 3
   },
   "file_extension": ".py",
   "mimetype": "text/x-python",
   "name": "python",
   "nbconvert_exporter": "python",
   "pygments_lexer": "ipython3",
   "version": "3.12.4"
  }
 },
 "nbformat": 4,
 "nbformat_minor": 5
}
