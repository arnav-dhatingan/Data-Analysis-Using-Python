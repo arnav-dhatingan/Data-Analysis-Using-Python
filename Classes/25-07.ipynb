{
 "cells": [
  {
   "cell_type": "code",
   "execution_count": 1,
   "id": "cb2ee2a4-6b99-4d47-a320-43710d91f509",
   "metadata": {},
   "outputs": [],
   "source": [
    "import numpy as np"
   ]
  },
  {
   "cell_type": "code",
   "execution_count": null,
   "id": "d4ab7ea0-903a-42e9-8016-0da4a3d51cde",
   "metadata": {},
   "outputs": [],
   "source": [
    "#Appending in list\n",
    "x=[1,2,3,4]\n",
    "print(x)\n",
    "\n",
    "y=np.append(x,[11,12])\n",
    "print(y)"
   ]
  },
  {
   "cell_type": "code",
   "execution_count": null,
   "id": "a2ef90f5-dd68-4bcf-8867-2e6a57299a25",
   "metadata": {},
   "outputs": [],
   "source": [
    "#Appending in column\n",
    "x=np.array([[1,2],[3,4]])\n",
    "print(x)\n",
    "\n",
    "y=np.append(x,[[11,12]],axis=0)\n",
    "print(y)"
   ]
  },
  {
   "cell_type": "code",
   "execution_count": null,
   "id": "5a4335c8-78be-4614-a37e-603f4d1f3980",
   "metadata": {},
   "outputs": [],
   "source": [
    "#Appending in row\n",
    "x=np.array([[1,2],[3,4]])\n",
    "print(x)\n",
    "\n",
    "y=np.append(x,[[11],[12]],axis=1)\n",
    "print(y)"
   ]
  },
  {
   "cell_type": "code",
   "execution_count": null,
   "id": "7550f2e3-a234-4d69-ab64-761e76e99399",
   "metadata": {
    "scrolled": true
   },
   "outputs": [],
   "source": [
    "#Inserting in row\n",
    "x=np.array([[1,2],[3,4]])\n",
    "print(x)\n",
    "\n",
    "y=np.insert(x,1,[[11,12]],axis=0)\n",
    "print(y)"
   ]
  },
  {
   "cell_type": "code",
   "execution_count": null,
   "id": "4e0d303c-d87e-4cea-af4f-c5ffcc50da49",
   "metadata": {},
   "outputs": [],
   "source": [
    "#Inserting in colunn\n",
    "x=np.array([[1,2],[3,4]])\n",
    "print(x)\n",
    "\n",
    "y=np.insert(x,1,[[11,12]],axis=1)\n",
    "print(y)"
   ]
  },
  {
   "cell_type": "code",
   "execution_count": null,
   "id": "44eea4eb-f993-4612-a4d3-5e5a7abaee21",
   "metadata": {},
   "outputs": [],
   "source": [
    "#deleting row\n",
    "x=np.array([[1,2],[3,4]])\n",
    "print(x)\n",
    "\n",
    "y=np.delete(x,1,axis=1)\n",
    "print(y)"
   ]
  },
  {
   "cell_type": "code",
   "execution_count": null,
   "id": "2a402734-f6ad-4ce4-8094-755b14a66072",
   "metadata": {},
   "outputs": [],
   "source": [
    "#deleting column\n",
    "x=np.array([[1,2],[3,4]])\n",
    "print(x)\n",
    "\n",
    "y=np.delete(x,1,axis=0)\n",
    "print(y)"
   ]
  },
  {
   "cell_type": "code",
   "execution_count": 3,
   "id": "a4e9e761-05d5-4131-89f5-618589b3b24e",
   "metadata": {},
   "outputs": [
    {
     "name": "stdout",
     "output_type": "stream",
     "text": [
      "[[ 8  5  7]\n",
      " [88  4 89]]\n",
      "[[ 8  4  7]\n",
      " [88  5 89]]\n"
     ]
    }
   ],
   "source": [
    "#sorting by row\n",
    "x=np.array([[8,5,7],[88,4,89]])\n",
    "print(x)\n",
    "\n",
    "y=np.sort(x,axis=0)\n",
    "print(y)"
   ]
  },
  {
   "cell_type": "code",
   "execution_count": 5,
   "id": "67dabeb7-7004-4c3a-ad77-974b048162bd",
   "metadata": {},
   "outputs": [
    {
     "name": "stdout",
     "output_type": "stream",
     "text": [
      "[[ 8  5  7]\n",
      " [88  4 89]]\n",
      "[[ 5  7  8]\n",
      " [ 4 88 89]]\n"
     ]
    }
   ],
   "source": [
    "#sorting by column\n",
    "x=np.array([[8,5,7],[88,4,89]])\n",
    "print(x)\n",
    "\n",
    "y=np.sort(x,axis=1)\n",
    "print(y)"
   ]
  },
  {
   "cell_type": "code",
   "execution_count": null,
   "id": "48a7883a-170c-44dc-b545-01bab5220067",
   "metadata": {},
   "outputs": [],
   "source": [
    "#Stacking horizontally\n",
    "\n",
    "x=np.arange(10).reshape(5,-1)\n",
    "y=np.arange(10,20).reshape(5,-1)\n",
    "\n",
    "z=np.concatenate( [x,y], axis=1)\n",
    "print(z)"
   ]
  },
  {
   "cell_type": "code",
   "execution_count": null,
   "id": "4edcbee1-e1fa-4bcb-9dd3-5f31be474132",
   "metadata": {},
   "outputs": [],
   "source": [
    "#Stacking vertically\n",
    "\n",
    "x=np.arange(10).reshape(5,-1)\n",
    "y=np.arange(10,20).reshape(5,-1)\n",
    "\n",
    "z=np.concatenate( [x,y], axis=0)\n",
    "print(z)"
   ]
  },
  {
   "cell_type": "code",
   "execution_count": null,
   "id": "1cbe20b0-e20f-4557-b49f-849ee2fb73d9",
   "metadata": {},
   "outputs": [],
   "source": [
    "y = np.array([[2,7,3],[8,3,5],[4,0,9]])\n",
    "\n",
    "\n",
    "# Find the mean of all elements\n",
    "print(\"The mean of all elements:\\n\", y.mean(), \"\\n\")\n"
   ]
  },
  {
   "cell_type": "code",
   "execution_count": null,
   "id": "138c2289-51c4-4455-9caa-1fbef9263e99",
   "metadata": {},
   "outputs": [],
   "source": [
    "y = np.array([[2,7,3],[8,3,5],[4,0,9]])\n",
    "\n",
    "# Find the mean of elements in the rows\n",
    "print(\"The mean of elements in rows:\\n\", y.mean(axis=1), \"\\n\")\n"
   ]
  },
  {
   "cell_type": "code",
   "execution_count": null,
   "id": "5404586a-19e5-4a51-b692-d604a53bb4d5",
   "metadata": {},
   "outputs": [],
   "source": [
    "y = np.array([[2,7,3],[8,3,5],[4,0,9]])\n",
    "\n",
    "# Find the mean of elements in the columns\n",
    "print(\"The mean of elements in columns:\\n\", y.mean(axis=0), \"\\n\")\n"
   ]
  },
  {
   "cell_type": "code",
   "execution_count": null,
   "id": "be359846-984f-4b9f-bc59-af78ce489abf",
   "metadata": {},
   "outputs": [],
   "source": [
    "\n",
    "y = np.array([[2,7,3],[8,3,5],[4,0,9]])\n",
    "print(\"The original array:\\n\", y, \"\\n\")\n",
    "# Find the sum of all elements\n",
    "print(\"The sum of all elements:\\n\", np.sum(y), \"\\n\")\n"
   ]
  },
  {
   "cell_type": "code",
   "execution_count": null,
   "id": "ea835e98-da8d-4f68-87f6-c51ba8709e87",
   "metadata": {},
   "outputs": [],
   "source": [
    "\n",
    "y = np.array([[2,7,3],[8,3,5],[4,0,9]])\n",
    "print(\"The original array:\\n\", y, \"\\n\")\n",
    "\n",
    "# Find the sum of elements by row\n",
    "print(\"The sum of elements by row:\\n\",np.sum(y,axis=1), \"\\n\")\n",
    "\n"
   ]
  },
  {
   "cell_type": "code",
   "execution_count": null,
   "id": "ac95ce18-7cb8-46df-a6a9-3944ee3e8da4",
   "metadata": {},
   "outputs": [],
   "source": [
    "\n",
    "y = np.array([[2,7,3],[8,3,5],[4,0,9]])\n",
    "print(\"The original array:\\n\", y, \"\\n\")\n",
    "\n",
    "# Find the sum of elements by column\n",
    "print(\"The sum of elements by column:\\n\",np.sum(y,axis=0), \"\\n\")\n"
   ]
  },
  {
   "cell_type": "code",
   "execution_count": null,
   "id": "58310660-cef4-49dc-8a0e-64113cd252e7",
   "metadata": {},
   "outputs": [],
   "source": [
    "y = np.array([[2,7,3],[8,3,5], [4,0,9]])\n",
    "print(\"The original array:\\n\", y, \"\\n\")\n",
    "# Find the SD of all elements\n",
    "print(\"The SD of all elements:\\n\", np.std(y), \"\\n\")\n"
   ]
  },
  {
   "cell_type": "code",
   "execution_count": null,
   "id": "ec38c475-05e0-4086-9e54-7f5344f43f5e",
   "metadata": {},
   "outputs": [],
   "source": [
    "y = np.array([[2,7,3],[8,3,5], [4,0,9]])\n",
    "print(\"The original array:\\n\", y, \"\\n\")\n",
    "\n",
    "# Find the SD of elements by row\n",
    "print(\"The SD of elements by row:\\n\",np.std(y,axis=1), \"\\n\")\n"
   ]
  },
  {
   "cell_type": "code",
   "execution_count": null,
   "id": "22c9a08d-f361-47d6-887e-8659ef296805",
   "metadata": {},
   "outputs": [],
   "source": [
    "y = np.array([[2,7,3],[8,3,5], [4,0,9]])\n",
    "print(\"The original array:\\n\", y, \"\\n\")\n",
    "\n",
    "# Find the SD of elements by column\n",
    "print(\"The SD of elements by column:\\n\",np.std(y,axis=0), \"\\n\")"
   ]
  },
  {
   "cell_type": "code",
   "execution_count": null,
   "id": "6458010c-1ece-4ba4-aa71-faa964646ed0",
   "metadata": {},
   "outputs": [],
   "source": [
    "y = np.array([[2,7,3],[8,3,5],[4,0,9]])\n",
    "\n",
    "# Find the min of all elements\n",
    "print(\"The min of all elements:\\n\", np.min(y), \"\\n\")"
   ]
  },
  {
   "cell_type": "code",
   "execution_count": null,
   "id": "9e61da91-c6dc-4224-86a5-3730b830b84c",
   "metadata": {},
   "outputs": [],
   "source": [
    "y = np.array([[2,7,3],[8,3,5],[4,0,9]])\n",
    "\n",
    "# Find the min of elements by row\n",
    "print(\"The min of elements by row:\\n\",np.min(y,axis=1), \"\\n\")"
   ]
  },
  {
   "cell_type": "code",
   "execution_count": null,
   "id": "f905d87b-ee92-4f0e-8e55-5a3bd37d1c45",
   "metadata": {},
   "outputs": [],
   "source": [
    "y = np.array([[2,7,3],[8,3,5],[4,0,9]])\n",
    "\n",
    "# Find the min of elements by column\n",
    "print(\"The min of elements by row:\\n\",np.min(y,axis=0), \"\\n\")"
   ]
  },
  {
   "cell_type": "code",
   "execution_count": null,
   "id": "7f98eade-3fb9-414b-b402-666f23026bcb",
   "metadata": {},
   "outputs": [],
   "source": [
    "y = np.array([[2,7,3],[8,3,5],[4,0,9]])\n",
    "\n",
    "# Find the max of all elements\n",
    "print(\"The max of all elements:\\n\", np.max(y), \"\\n\")"
   ]
  },
  {
   "cell_type": "code",
   "execution_count": null,
   "id": "c470ecd5-14db-4ba2-861a-4c994ef3a7dc",
   "metadata": {},
   "outputs": [],
   "source": [
    "y = np.array([[2,7,3],[8,3,5],[4,0,9]])\n",
    "\n",
    "# Find the max of elements by row\n",
    "print(\"The max of elements by row:\\n\",np.max(y,axis=1), \"\\n\")"
   ]
  },
  {
   "cell_type": "code",
   "execution_count": null,
   "id": "6bb99da0-c5f1-4c1d-ac87-f82e00fdb05a",
   "metadata": {},
   "outputs": [],
   "source": [
    "y = np.array([[2,7,3],[8,3,5],[4,0,9]])\n",
    "\n",
    "# Find the max of elements by column\n",
    "print(\"The max of elements by row:\\n\",np.max(y,axis=0), \"\\n\")"
   ]
  },
  {
   "cell_type": "code",
   "execution_count": null,
   "id": "b35bdec4-f5d7-4d7a-8f7c-3e17957533a2",
   "metadata": {},
   "outputs": [],
   "source": [
    "#where function x and y have same element\n",
    "x=np.ones(10)\n",
    "y=np.arange(10)\n",
    "\n",
    "print(np.where(x == y), \"\\n\")"
   ]
  },
  {
   "cell_type": "code",
   "execution_count": null,
   "id": "7cc1383a-7946-450c-b263-ee4856963957",
   "metadata": {},
   "outputs": [],
   "source": [
    "#where function x is greater than y \n",
    "x=np.ones(10)\n",
    "y=np.arange(10)\n",
    "\n",
    "print(np.where(x >= y), \"\\n\")"
   ]
  },
  {
   "cell_type": "code",
   "execution_count": null,
   "id": "35f316b2-6a3c-4ad8-a2da-d937c5f7ff64",
   "metadata": {},
   "outputs": [],
   "source": [
    "#where function 2x is greater than y with same index\n",
    "x=np.ones(10)\n",
    "y=np.arange(10)\n",
    "\n",
    "print(np.where(2*x < y), \"\\n\")"
   ]
  },
  {
   "cell_type": "code",
   "execution_count": null,
   "id": "467a00b1-326b-4ac0-9488-4e1accd17378",
   "metadata": {},
   "outputs": [],
   "source": [
    "#where function in second array elements gteater than 5\n",
    "x=np.ones(10)\n",
    "y=np.arange(10)\n",
    "\n",
    "print(np.where(y > 5), \"\\n\")"
   ]
  },
  {
   "cell_type": "code",
   "execution_count": null,
   "id": "2381a457-2d10-4ce8-b2a4-6173c8d8ac15",
   "metadata": {},
   "outputs": [],
   "source": [
    "x=np.random.randint(20,size=(10))\n",
    "\n",
    "print(x)\n",
    "np.where(x>5,x+5,x)"
   ]
  },
  {
   "cell_type": "code",
   "execution_count": null,
   "id": "2cc63f11-7e41-4e16-afb0-c0db59a54b76",
   "metadata": {},
   "outputs": [],
   "source": []
  }
 ],
 "metadata": {
  "kernelspec": {
   "display_name": "Python 3 (ipykernel)",
   "language": "python",
   "name": "python3"
  },
  "language_info": {
   "codemirror_mode": {
    "name": "ipython",
    "version": 3
   },
   "file_extension": ".py",
   "mimetype": "text/x-python",
   "name": "python",
   "nbconvert_exporter": "python",
   "pygments_lexer": "ipython3",
   "version": "3.12.4"
  }
 },
 "nbformat": 4,
 "nbformat_minor": 5
}
