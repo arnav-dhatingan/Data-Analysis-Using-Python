{
 "cells": [
  {
   "cell_type": "code",
   "execution_count": 2,
   "id": "bf0ac306-c2b2-45b8-8310-b1c69f44a786",
   "metadata": {},
   "outputs": [],
   "source": [
    "import pandas as pd\n",
    "import numpy as np"
   ]
  },
  {
   "cell_type": "code",
   "execution_count": 4,
   "id": "506dc2b2-2fd3-4878-9178-96c4b427087b",
   "metadata": {},
   "outputs": [],
   "source": [
    "arr=([10,15,22,18])"
   ]
  },
  {
   "cell_type": "code",
   "execution_count": 6,
   "id": "ed5b4fe9-5f92-48a8-a431-923f633698f0",
   "metadata": {},
   "outputs": [
    {
     "name": "stdout",
     "output_type": "stream",
     "text": [
      "0    10\n",
      "1    15\n",
      "2    22\n",
      "3    18\n",
      "dtype: int64\n"
     ]
    }
   ],
   "source": [
    "s=pd.Series(arr)\n",
    "print(s)"
   ]
  },
  {
   "cell_type": "code",
   "execution_count": 8,
   "id": "3cfe7af2-c189-45fb-ab77-66a07ec637c1",
   "metadata": {},
   "outputs": [],
   "source": [
    "brr=np.array(['a','b','c','d'])"
   ]
  },
  {
   "cell_type": "code",
   "execution_count": 18,
   "id": "1b7c1c05-e232-47ad-ada8-f914b24a71ad",
   "metadata": {},
   "outputs": [
    {
     "name": "stdout",
     "output_type": "stream",
     "text": [
      "1    a\n",
      "2    b\n",
      "3    c\n",
      "4    d\n",
      "dtype: object\n"
     ]
    }
   ],
   "source": [
    "t=pd.Series(brr,index=[1,2,3,4])\n",
    "print(t)"
   ]
  },
  {
   "cell_type": "code",
   "execution_count": null,
   "id": "65c75f3a-b8a1-4b62-87c3-d0935b34a7a2",
   "metadata": {},
   "outputs": [],
   "source": [
    "player={'Name':'Goat' ''}"
   ]
  }
 ],
 "metadata": {
  "kernelspec": {
   "display_name": "Python 3 (ipykernel)",
   "language": "python",
   "name": "python3"
  },
  "language_info": {
   "codemirror_mode": {
    "name": "ipython",
    "version": 3
   },
   "file_extension": ".py",
   "mimetype": "text/x-python",
   "name": "python",
   "nbconvert_exporter": "python",
   "pygments_lexer": "ipython3",
   "version": "3.12.4"
  }
 },
 "nbformat": 4,
 "nbformat_minor": 5
}
