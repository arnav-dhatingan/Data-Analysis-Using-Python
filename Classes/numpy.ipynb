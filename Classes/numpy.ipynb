{
 "cells": [
  {
   "cell_type": "code",
   "execution_count": 1,
   "id": "4c375e39-f7ac-4466-af09-53bdc4653c2b",
   "metadata": {},
   "outputs": [
    {
     "name": "stdout",
     "output_type": "stream",
     "text": [
      "[1 2 3 4 5 6 7 8 9] \n",
      "\n",
      "[[1 2 3 4]\n",
      " [5 6 7 8]]\n"
     ]
    }
   ],
   "source": [
    "# create array using lists\n",
    "\n",
    "import numpy as np\n",
    "array_1D = np.array([1,2,3,4,5,6,7,8,9])\n",
    "print(array_1D, \"\\n\")\n",
    "\n",
    "array_2D = np.array([[1,2,3,4],[5,6,7,8]])\n",
    "print(array_2D)"
   ]
  },
  {
   "cell_type": "code",
   "execution_count": 2,
   "id": "857c2c43-9b4a-46ef-95f5-ee41cb3a0340",
   "metadata": {},
   "outputs": [
    {
     "name": "stdout",
     "output_type": "stream",
     "text": [
      "original array: [1 2 3 4 5 6 7 8] \n",
      "\n",
      "new array: [88  2  3  4  5  6  7  8]\n"
     ]
    }
   ],
   "source": [
    "# editing elements in array\n",
    "# array[] = X\n",
    "\n",
    "import numpy as np\n",
    "array_1D = np.array([1,2,3,4,5,6,7,8])\n",
    "print(\"original array:\", array_1D, \"\\n\")\n",
    "\n",
    "# change first element from 1 to 88\n",
    "array_1D[0] = 88\n",
    "print(\"new array:\", array_1D)\n"
   ]
  },
  {
   "cell_type": "code",
   "execution_count": 3,
   "id": "cb0fbf9a-85f3-4b86-8b34-91bfd308a05d",
   "metadata": {},
   "outputs": [
    {
     "name": "stdout",
     "output_type": "stream",
     "text": [
      "array 1: \n",
      " [1 2 3 4 5 6 7 8]\n",
      "shape of array 1: \n",
      " (8,) \n",
      "\n",
      "array 2: \n",
      " [[1 2 3 4]\n",
      " [5 6 7 8]]\n",
      "shape of array 2: \n",
      " (2, 4) \n",
      "\n"
     ]
    }
   ],
   "source": [
    "# checking shape of array \n",
    "# arrayname.shape\n",
    "\n",
    "import numpy as np\n",
    "\n",
    "array_1 = np.array([1,2,3,4,5,6,7,8])\n",
    "array_2 = np.array([[1,2,3,4],[5,6,7,8]])\n",
    "\n",
    "# first array\n",
    "print(\"array 1: \\n\", array_1)\n",
    "print(\"shape of array 1: \\n\", array_1.shape, \"\\n\")\n",
    "\n",
    "# second array\n",
    "print(\"array 2: \\n\", array_2)\n",
    "print(\"shape of array 2: \\n\", array_2.shape, \"\\n\")"
   ]
  },
  {
   "cell_type": "code",
   "execution_count": 4,
   "id": "eba9512b-3703-43a0-a4f0-1c6f01eb70f8",
   "metadata": {},
   "outputs": [
    {
     "name": "stdout",
     "output_type": "stream",
     "text": [
      "[[0. 0.]\n",
      " [0. 0.]] \n",
      "\n",
      "[[1. 1.]\n",
      " [1. 1.]]\n"
     ]
    }
   ],
   "source": [
    "# creating arrays with NumPy functions\n",
    "# np.zeros, np.ones\n",
    "\n",
    "import numpy as np\n",
    "zero = np.zeros((2,2));\n",
    "print(zero, \"\\n\")\n",
    "\n",
    "one = np.ones((2,2))\n",
    "print(one)"
   ]
  },
  {
   "cell_type": "code",
   "execution_count": 5,
   "id": "05a7a582-54eb-4141-b3ab-cbea794fa85f",
   "metadata": {},
   "outputs": [
    {
     "name": "stdout",
     "output_type": "stream",
     "text": [
      "[0 1 2 3 4]\n",
      "[1 2 3 4 5 6 7 8 9]\n",
      "[1 3 5 7 9]\n"
     ]
    }
   ],
   "source": [
    "# aranging\n",
    "# np.arange\n",
    "\n",
    "import numpy as np\n",
    "\n",
    "# numpy.arange(stop)\n",
    "print(np.arange(5))\n",
    "\n",
    "# numpy.arange(start, stop)\n",
    "print(np.arange(1, 10))\n",
    "\n",
    "# numpy.arange(start, stop, step)\n",
    "print(np.arange(1, 10, 2))\n"
   ]
  },
  {
   "cell_type": "code",
   "execution_count": 6,
   "id": "a639519b-931c-4abf-a2a0-5d0107df329f",
   "metadata": {
    "scrolled": true
   },
   "outputs": [
    {
     "name": "stdout",
     "output_type": "stream",
     "text": [
      "[ 0. 10.]\n",
      "[ 0.   2.5  5.   7.5 10. ]\n",
      "[ 0.          0.20408163  0.40816327  0.6122449   0.81632653  1.02040816\n",
      "  1.2244898   1.42857143  1.63265306  1.83673469  2.04081633  2.24489796\n",
      "  2.44897959  2.65306122  2.85714286  3.06122449  3.26530612  3.46938776\n",
      "  3.67346939  3.87755102  4.08163265  4.28571429  4.48979592  4.69387755\n",
      "  4.89795918  5.10204082  5.30612245  5.51020408  5.71428571  5.91836735\n",
      "  6.12244898  6.32653061  6.53061224  6.73469388  6.93877551  7.14285714\n",
      "  7.34693878  7.55102041  7.75510204  7.95918367  8.16326531  8.36734694\n",
      "  8.57142857  8.7755102   8.97959184  9.18367347  9.3877551   9.59183673\n",
      "  9.79591837 10.        ]\n"
     ]
    }
   ],
   "source": [
    "# np.linspace\n",
    "# np.linspace(start(inclusive), stop(inclusive), no. evenly spaced numbers)\n",
    "\n",
    "import numpy as np\n",
    "\n",
    "print(np.linspace(0, 10, 2))\n",
    "\n",
    "print(np.linspace(0, 10, 5))\n",
    "\n",
    "print(np.linspace(0, 10, )) # default 50 values"
   ]
  },
  {
   "cell_type": "code",
   "execution_count": 7,
   "id": "3f1d9b22-06c0-4aa5-84fe-68ec8ccc42be",
   "metadata": {},
   "outputs": [
    {
     "name": "stdout",
     "output_type": "stream",
     "text": [
      "[[8 8]\n",
      " [8 8]]\n"
     ]
    }
   ],
   "source": [
    "# np.full\n",
    "# np.full((0,0)array_value)\n",
    "\n",
    "import numpy as np\n",
    "\n",
    "full = np.full((2,2),8)\n",
    "print(full)"
   ]
  },
  {
   "cell_type": "code",
   "execution_count": 8,
   "id": "be0fe28a-b9e3-4a20-8114-5a654620a867",
   "metadata": {},
   "outputs": [
    {
     "name": "stdout",
     "output_type": "stream",
     "text": [
      "[[1. 0.]\n",
      " [0. 1.]] \n",
      "\n",
      "[[1. 0. 0. 0. 0.]\n",
      " [0. 1. 0. 0. 0.]\n",
      " [0. 0. 1. 0. 0.]\n",
      " [0. 0. 0. 1. 0.]\n",
      " [0. 0. 0. 0. 1.]]\n"
     ]
    }
   ],
   "source": [
    "# np.eye\n",
    "\n",
    "import numpy as np\n",
    "\n",
    "# since identity matrix is a square matrix\n",
    "# we just need one number to determine rows and columns\n",
    "\n",
    "i_1 = np.eye(2)\n",
    "print(i_1, \"\\n\")\n",
    "\n",
    "i_2 = np.eye(5)\n",
    "print(i_2)"
   ]
  },
  {
   "cell_type": "code",
   "execution_count": 9,
   "id": "694c62c7-31b6-4f14-9fea-22af9a5add71",
   "metadata": {},
   "outputs": [
    {
     "name": "stdout",
     "output_type": "stream",
     "text": [
      "[[1 2 3]\n",
      " [4 5 6]\n",
      " [9 8 7]] \n",
      "\n",
      "[1 5 7]\n",
      "[2 6]\n",
      "[3]\n"
     ]
    }
   ],
   "source": [
    "# np.diag\n",
    "\n",
    "import numpy as np\n",
    "\n",
    "myarray = np.matrix([[1, 2, 3], [4, 5, 6], [9, 8, 7]])\n",
    "print(myarray, \"\\n\")\n",
    "\n",
    "# returns first diagonal row\n",
    "print(np.diag(myarray))\n",
    "\n",
    "# returns second diagonal row\n",
    "print(np.diag(myarray, 1))\n",
    "\n",
    "# returns third diagonal row\n",
    "print(np.diag(myarray, 2))"
   ]
  },
  {
   "cell_type": "code",
   "execution_count": 10,
   "id": "041952e7-d05a-44c8-b8d6-b10a233e5a3e",
   "metadata": {},
   "outputs": [
    {
     "name": "stdout",
     "output_type": "stream",
     "text": [
      "[[0.8110163  0.81584022 0.081531  ]\n",
      " [0.48896373 0.7650652  0.56155785]\n",
      " [0.00847468 0.01971074 0.01797374]]\n"
     ]
    }
   ],
   "source": [
    "# np.random.random\n",
    "\n",
    "import numpy as np\n",
    "random = np.random.random((3,3)) # size can be specified\n",
    "print(random)"
   ]
  },
  {
   "cell_type": "code",
   "execution_count": 11,
   "id": "f3426b6d-1773-4e16-b737-bfe0fd799180",
   "metadata": {},
   "outputs": [
    {
     "name": "stdout",
     "output_type": "stream",
     "text": [
      "[[0 8 6]\n",
      " [1 4 5]\n",
      " [2 5 8]]\n",
      "\n",
      "[[0 2 2]\n",
      " [2 4 9]\n",
      " [6 4 9]]\n"
     ]
    }
   ],
   "source": [
    "# np.random.randint\n",
    "\n",
    "import numpy as np\n",
    "\n",
    "integer = np.random.randint(0,10, (3,3))\n",
    "\n",
    "integer2 = np.random.randint(0,10, size=(3,3))\n",
    "# you can omit \"size=\" and just write the brackets to indicate size\n",
    "\n",
    "print(integer)\n",
    "print()\n",
    "print(integer2)"
   ]
  },
  {
   "cell_type": "code",
   "execution_count": 12,
   "id": "9423bc84-295a-4636-b565-3436dc955d89",
   "metadata": {},
   "outputs": [
    {
     "name": "stdout",
     "output_type": "stream",
     "text": [
      "[[1 2 3]\n",
      " [4 5 6]\n",
      " [9 8 7]] \n",
      "\n",
      "row: [1 2 3]\n",
      "column: [1 4 9] \n",
      "\n",
      "row and column: \n",
      " [[1 2 3]\n",
      " [4 5 6]]\n",
      "\n",
      "shape: \n",
      " (2, 3)\n"
     ]
    }
   ],
   "source": [
    "# array slicing \n",
    "\n",
    "import numpy as np \n",
    "myarray = np.array([[1, 2, 3], [4, 5, 6], [9, 8, 7]])\n",
    "print(myarray, \"\\n\")\n",
    "\n",
    "# retrieving elements from rows\n",
    "myarray = np.array([[1, 2, 3], [4, 5, 6], [9, 8, 7]])\n",
    "print(\"row:\", myarray[0,:])\n",
    "\n",
    "# retrieving elements from columns\n",
    "myarray = np.array([[1, 2, 3], [4, 5, 6], [9, 8, 7]])\n",
    "print(\"column:\", myarray[:,0], \"\\n\")\n",
    "\n",
    "# retrieving elements from rows and columns\n",
    "myarray = np.array([[1, 2, 3], [4, 5, 6], [9, 8, 7]])\n",
    "myarray_new = myarray[:2,:]\n",
    "\n",
    "print(\"row and column: \\n\", myarray_new)\n",
    "print()\n",
    "print(\"shape: \\n\", myarray_new.shape)"
   ]
  },
  {
   "cell_type": "code",
   "execution_count": 13,
   "id": "dc123070-2cf0-430e-a716-a24902c20ac3",
   "metadata": {},
   "outputs": [
    {
     "name": "stdout",
     "output_type": "stream",
     "text": [
      "original array: \n",
      " [0 1 2 3 4 5 6 7] \n",
      "\n",
      "reversed array: \n",
      " [7 6 5 4 3 2 1 0] \n",
      "\n"
     ]
    }
   ],
   "source": [
    "# reversing order of elements in arrays\n",
    "# myarray[::-1]\n",
    "\n",
    "import numpy as np\n",
    "myarray = np.arange(8)\n",
    "\n",
    "print(\"original array: \\n\", myarray, \"\\n\")\n",
    "print(\"reversed array: \\n\", myarray[::-1], \"\\n\")"
   ]
  },
  {
   "cell_type": "code",
   "execution_count": 14,
   "id": "7e146f67-68ba-4def-8f40-f257e8d2a9ef",
   "metadata": {},
   "outputs": [],
   "source": [
    "# page 13"
   ]
  },
  {
   "cell_type": "code",
   "execution_count": 15,
   "id": "ecd370c6-a8aa-47ac-828f-da4d849bb513",
   "metadata": {},
   "outputs": [
    {
     "name": "stdout",
     "output_type": "stream",
     "text": [
      "original array: \n",
      " [[1 2 3]\n",
      " [4 5 6]\n",
      " [7 8 9]] \n",
      "\n",
      "reshaped array: \n",
      " [[1 2 3 4 5 6 7 8 9]] \n",
      "\n",
      "reshaped array shape: \n",
      " (1, 9)\n",
      "using reshape with automatic column number -1: \n",
      "\n",
      "original array: \n",
      " [[0 0 0]\n",
      " [1 1 1]\n",
      " [2 2 2]\n",
      " [3 3 3]] \n",
      "\n",
      "reshaped array 1: \n",
      " [[0 0 0 1 1 1 2 2 2 3 3 3]] \n",
      "\n",
      "reshaped array 2: \n",
      " [[0 0 0 1]\n",
      " [1 1 2 2]\n",
      " [2 3 3 3]] \n",
      "\n",
      "reshaped array 3: \n",
      " [[0 0 0]\n",
      " [1 1 1]\n",
      " [2 2 2]\n",
      " [3 3 3]] \n",
      "\n",
      "reshaped array 4: \n",
      " [[0 0]\n",
      " [0 1]\n",
      " [1 1]\n",
      " [2 2]\n",
      " [2 3]\n",
      " [3 3]] \n",
      "\n"
     ]
    }
   ],
   "source": [
    "# reshaping arrays\n",
    "# .reshape(a,b), a=rows and b=columns\n",
    "\n",
    "import numpy as np\n",
    "myarray = np.array([[1, 2, 3], [4, 5, 6], [7, 8, 9]])\n",
    "print(\"original array: \\n\", myarray, \"\\n\")\n",
    "\n",
    "myarray_reshaped = myarray.reshape(1,9)\n",
    "\n",
    "print(\"reshaped array: \\n\", myarray_reshaped, \"\\n\")\n",
    "print(\"reshaped array shape: \\n\", myarray_reshaped.shape)\n",
    "\n",
    "\n",
    "# can automatically detect the column number using  -1\n",
    "\n",
    "myarray1 = np.array([[0, 0, 0], [1, 1, 1], [2, 2, 2], [3, 3, 3]])\n",
    "\n",
    "print(\"using reshape with automatic column number -1: \\n\")\n",
    "print(\"original array: \\n\", myarray1, \"\\n\")\n",
    "\n",
    "print(\"reshaped array 1: \\n\", myarray1.reshape(1,-1), \"\\n\")\n",
    "print(\"reshaped array 2: \\n\", myarray1.reshape(3,-1), \"\\n\")\n",
    "print(\"reshaped array 3: \\n\", myarray1.reshape(4,-1), \"\\n\")\n",
    "print(\"reshaped array 4: \\n\", myarray1.reshape(6,-1), \"\\n\")\n",
    "\n"
   ]
  },
  {
   "cell_type": "code",
   "execution_count": 16,
   "id": "1557a058-2762-465d-a53f-e4676b58df14",
   "metadata": {},
   "outputs": [
    {
     "name": "stdout",
     "output_type": "stream",
     "text": [
      "[ 3 13  2 18 11  5 12 16  7 14]\n"
     ]
    },
    {
     "data": {
      "text/plain": [
       "array([ 3, 18,  2, 23, 16,  5, 17, 21, 12, 19])"
      ]
     },
     "execution_count": 16,
     "metadata": {},
     "output_type": "execute_result"
    }
   ],
   "source": [
    "# condition\n",
    "# NOT IN PDF\n",
    "\n",
    "import numpy as np\n",
    "x = np.random.randint(20, size=(10))\n",
    "print(x)\n",
    "\n",
    "# np.where(condition, display if true, display if false)\n",
    "np.where(x > 5, x+5, x)"
   ]
  },
  {
   "cell_type": "code",
   "execution_count": 17,
   "id": "4302ce51-861f-478b-b901-e037df210847",
   "metadata": {},
   "outputs": [
    {
     "name": "stdout",
     "output_type": "stream",
     "text": [
      "[[1 2]\n",
      " [4 8]] \n",
      "\n",
      " [[1. 1.]\n",
      " [1. 1.]] \n",
      "\n",
      "Adding method 1:\n",
      "[[2. 3.]\n",
      " [5. 9.]]\n",
      "\n",
      "Adding method 2:\n",
      "[[2. 3.]\n",
      " [5. 9.]]\n",
      "\n",
      "Subtracting:\n",
      "[[0. 1.]\n",
      " [3. 7.]]\n",
      "\n",
      "Multiplying:\n",
      "[[1. 2.]\n",
      " [4. 8.]]\n",
      "\n",
      "Dividing:\n",
      "[[1. 2.]\n",
      " [4. 8.]]\n"
     ]
    }
   ],
   "source": [
    "# math functions with NumPy \n",
    "# np.add, np.subtract, np.multiply, np.divide\n",
    "\n",
    "x = np.array([[1,2],[4,8]])\n",
    "y = np.ones((2,2))\n",
    "print(x, \"\\n\\n\", y, \"\\n\")\n",
    "\n",
    "# method 1\n",
    "print(\"Adding method 1:\")\n",
    "print(x+y)\n",
    "\n",
    "# method 2\n",
    "print(\"\\nAdding method 2:\")\n",
    "print(np.add(x,y))\n",
    "\n",
    "print(\"\\nSubtracting:\")\n",
    "print(np.subtract(x,y))\n",
    "\n",
    "print(\"\\nMultiplying:\")\n",
    "print(np.multiply(x,y))\n",
    "\n",
    "print(\"\\nDividing:\")\n",
    "print(np.divide(x,y))\n"
   ]
  },
  {
   "cell_type": "code",
   "execution_count": 18,
   "id": "22cf824e-c72c-4c87-b69e-4b91d42f83dc",
   "metadata": {},
   "outputs": [
    {
     "name": "stdout",
     "output_type": "stream",
     "text": [
      "[[1.41421356 1.73205081]\n",
      " [2.         2.23606798]]\n",
      "\n",
      "[[1.41421356 1.73205081]\n",
      " [2.         2.23606798]]\n"
     ]
    }
   ],
   "source": [
    "# square root\n",
    "# np.sqrt(x + y)\n",
    "\n",
    "import numpy as np\n",
    "x = np.array([[1,2],[3,4]])\n",
    "y = np.ones((2,2))\n",
    "print(np.sqrt(x + y))\n",
    "\n",
    "print()\n",
    "print(np.sqrt(np.add(x,y)))\n"
   ]
  },
  {
   "cell_type": "code",
   "execution_count": 19,
   "id": "9cf39b4d-152a-4620-89fa-51ce646cab7c",
   "metadata": {},
   "outputs": [
    {
     "name": "stdout",
     "output_type": "stream",
     "text": [
      "array z shape:\n",
      "(2,) \n",
      "\n",
      "array x shape:\n",
      "(2, 2) \n",
      "\n",
      "[27 40]\n",
      "[20 46]\n"
     ]
    }
   ],
   "source": [
    "# matrix multiplication\n",
    "# np.dot\n",
    "\n",
    "import numpy as np\n",
    "\n",
    "z = np.array([6,7])\n",
    "x = np.array([[1,2],[3,4]])\n",
    "\n",
    "print(\"array z shape:\")\n",
    "print(np.shape(z), \"\\n\")\n",
    "\n",
    "print(\"array x shape:\")\n",
    "print(np.shape(x), \"\\n\")\n",
    "\n",
    "\n",
    "# order matters in matrix multiplication\n",
    "print(np.dot(z,x))\n",
    "\n",
    "# [6,7] * [[1,2]\n",
    "#          [3,4]]\n",
    "\n",
    "# 6*1 + 7*3, 6*2 + 7*4\n",
    "\n",
    "\n",
    "# we can see that z can be 2 by 1 or 1 by 2\n",
    "print(np.dot(x,z))\n",
    "\n",
    "# [[1,2] * [6,\n",
    "#  [3,4]].  7]\n",
    "\n",
    "# 1*6 + 2*7, 3*6 + 4*7"
   ]
  },
  {
   "cell_type": "code",
   "execution_count": 20,
   "id": "6609ea8d-0efa-49a4-8e6d-799ba9d854ea",
   "metadata": {},
   "outputs": [
    {
     "name": "stdout",
     "output_type": "stream",
     "text": [
      "table: \n",
      " [[1 2]\n",
      " [3 4]] \n",
      "\n",
      "sum: 10 \n",
      "\n",
      "axis=0, row\n",
      "[4 6]\n",
      "\n",
      "axis=1, column\n",
      "[3 7]\n"
     ]
    }
   ],
   "source": [
    "# sum \n",
    "# np.sum(array)\n",
    "\n",
    "import numpy as np\n",
    "x = np.array([[1,2],[3,4]])\n",
    "print(\"table: \\n\", x, \"\\n\")\n",
    "print(\"sum:\", np.sum(x), \"\\n\")\n",
    "\n",
    "\n",
    "# sum of each column\n",
    "# we need to specify axis = 0\n",
    "\n",
    "import numpy as np\n",
    "y = np.array([[1,2],[3,4]])\n",
    "print(\"axis=0, row\")\n",
    "print(np.sum(y, axis=0))\n",
    "print()\n",
    "\n",
    "# sum of each row\n",
    "# we need to specify axis = 1\n",
    "\n",
    "import numpy as np\n",
    "y = np.array([[1,2],[3,4]])\n",
    "print(\"axis=1, column\")\n",
    "print(np.sum(y, axis=1))"
   ]
  },
  {
   "cell_type": "code",
   "execution_count": 21,
   "id": "6ca76b10-7632-494a-a9f7-cd3420ebd5c3",
   "metadata": {},
   "outputs": [
    {
     "name": "stdout",
     "output_type": "stream",
     "text": [
      "[[0 1]\n",
      " [2 3]\n",
      " [4 5]\n",
      " [6 7]\n",
      " [8 9]] \n",
      "\n",
      " [[10 11]\n",
      " [12 13]\n",
      " [14 15]\n",
      " [16 17]\n",
      " [18 19]]\n",
      "\n",
      "first array is: \n",
      " [[0 1]\n",
      " [2 3]\n",
      " [4 5]\n",
      " [6 7]\n",
      " [8 9]]\n",
      "\n",
      "second array is: \n",
      " [[10 11]\n",
      " [12 13]\n",
      " [14 15]\n",
      " [16 17]\n",
      " [18 19]] \n",
      "\n",
      "combined array is: \n",
      " [[ 0  1 10 11]\n",
      " [ 2  3 12 13]\n",
      " [ 4  5 14 15]\n",
      " [ 6  7 16 17]\n",
      " [ 8  9 18 19]] \n",
      "\n",
      "\n",
      "first array is: \n",
      " [[0 1]\n",
      " [2 3]\n",
      " [4 5]\n",
      " [6 7]\n",
      " [8 9]]\n",
      "\n",
      "second array is: \n",
      " [[10 11]\n",
      " [12 13]\n",
      " [14 15]\n",
      " [16 17]\n",
      " [18 19]] \n",
      "\n",
      "combined array is: \n",
      " [[ 0  1]\n",
      " [ 2  3]\n",
      " [ 4  5]\n",
      " [ 6  7]\n",
      " [ 8  9]\n",
      " [10 11]\n",
      " [12 13]\n",
      " [14 15]\n",
      " [16 17]\n",
      " [18 19]] \n",
      "\n"
     ]
    }
   ],
   "source": [
    "# combining 2 arrays\n",
    "# concatenate(array1, array2)\n",
    "\n",
    "import numpy as np\n",
    "x = np.arange(10).reshape(5,-1)\n",
    "y = np.arange(10,20).reshape(5,-1 )\n",
    "print(x,\"\\n\\n\", y)\n",
    "\n",
    "# stack horizontally\n",
    "# | + | = ||\n",
    "import numpy as np\n",
    "print(\"\\nfirst array is: \\n\", x)\n",
    "print(\"\\nsecond array is: \\n\", y, \"\\n\")\n",
    "print(\"combined array is: \\n\", np.concatenate([x,y], axis=1), \"\\n\")\n",
    "\n",
    "# stack vertically\n",
    "# –– + –– = –– \n",
    "#           ––\n",
    "print(\"\\nfirst array is: \\n\", x)\n",
    "print(\"\\nsecond array is: \\n\", y, \"\\n\")\n",
    "print(\"combined array is: \\n\", np.concatenate([x,y], axis=0), \"\\n\")\n",
    "\n",
    "\n",
    "\n"
   ]
  },
  {
   "cell_type": "code",
   "execution_count": 22,
   "id": "19e2da9f-36f3-4785-96c7-11a6eec62371",
   "metadata": {},
   "outputs": [
    {
     "name": "stdout",
     "output_type": "stream",
     "text": [
      "[1 2 3 4]\n",
      "[ 1  2  3  4 69] \n",
      "\n",
      "[1 2 3 4]\n",
      "[ 1  2  3  4 12 13] \n",
      "\n",
      "[[ 1  2]\n",
      " [ 3  4]\n",
      " [11 22]] \n",
      "\n",
      "\n",
      "[[ 1  2 33]\n",
      " [ 3  4 77]]\n"
     ]
    }
   ],
   "source": [
    "# adding elements to arrays\n",
    "# np. append\n",
    "\n",
    "import numpy as np\n",
    "x = np.array([1,2,3,4])\n",
    "print(x)\n",
    "x = np.append(x, 69)\n",
    "print(x, \"\\n\")\n",
    "\n",
    "# adding multiple elements to 1D arrays\n",
    "import numpy as np\n",
    "x = np.array([1,2,3,4])\n",
    "print(x)\n",
    "x = np.append(x,[12,13])\n",
    "print(x, \"\\n\")\n",
    "\n",
    "# adding extra rows to 2D arrays\n",
    "y = np.array([[1,2],[3,4]])\n",
    "y = np.append(y,[[11,22]], axis=0)\n",
    "print(y, \"\\n\\n\")\n",
    "\n",
    "# adding extra columns to 2D arrays\n",
    "z = np.array([[1,2],[3,4]])\n",
    "z = np.append(z,[[33],[77]], axis=1)\n",
    "print(z)"
   ]
  },
  {
   "cell_type": "code",
   "execution_count": 23,
   "id": "3afbfddd-d669-4a14-8aea-96a630d87a97",
   "metadata": {},
   "outputs": [
    {
     "name": "stdout",
     "output_type": "stream",
     "text": [
      "original array: [1 2 3 4]\n",
      "\n",
      "updated array, inserted row element: [ 1  2 11 12 13  3  4]\n",
      "\n",
      "original array: \n",
      " [[1 2]\n",
      " [3 4]]\n",
      "\n",
      "updated array, inserted rows: \n",
      " [[ 1  2]\n",
      " [11 12]\n",
      " [ 3  4]]\n",
      "\n",
      "original array: \n",
      " [[1 2]\n",
      " [3 4]]\n",
      "\n",
      "updated array, inserted column element: \n",
      " [[ 1  2 55]\n",
      " [ 3  4 55]]\n"
     ]
    }
   ],
   "source": [
    "# inserting elements into arrays\n",
    "# np.insert(ndarray, index, elements, axis)\n",
    "# you get to insert at any specified spot compared to append\n",
    "\n",
    "# inserting elements to a row in 1D arrays\n",
    "import numpy as np\n",
    "x = np.array([1,2,3,4])\n",
    "print(\"original array:\", x)\n",
    "x = np.insert(x, 2,[11,12,13])\n",
    "print(\"\\nupdated array, inserted row element:\", x)\n",
    "\n",
    "# inserting elements to a row in 2D arrays\n",
    "import numpy as npp\n",
    "y = np.array([[1,2],[3,4]])\n",
    "print(\"\\noriginal array: \\n\", y)\n",
    "\n",
    "y = np.insert(y,1,[11,12], axis=0)\n",
    "print(\"\\nupdated array, inserted rows: \\n\", y)\n",
    "\n",
    "# insert elements to a column in 2D arrays \n",
    "import numpy as np\n",
    "y = np.array([[1,2],[3,4]])\n",
    "print(\"\\noriginal array: \\n\", y)\n",
    "\n",
    "y = np.insert(y, 2, 55, axis=1)\n",
    "print(\"\\nupdated array, inserted column element: \\n\", y)"
   ]
  },
  {
   "cell_type": "code",
   "execution_count": 24,
   "id": "18029371-8895-43fb-980b-604bcf9b8f4d",
   "metadata": {},
   "outputs": [
    {
     "name": "stdout",
     "output_type": "stream",
     "text": [
      "original:  [1 2 3 4]\n",
      "deleted:  [2 4]\n",
      "\n",
      "original array:\n",
      " [[1 2]\n",
      " [3 4]]\n",
      "\n",
      "updated array:\n",
      " [[2]\n",
      " [4]]\n",
      "\n",
      "original array:\n",
      " [[2]\n",
      " [4]]\n",
      "\n",
      "updated array:\n",
      " [[3 4]]\n"
     ]
    }
   ],
   "source": [
    "# deleting elements from arrays\n",
    "# np.delete(ndarray, elements, axis)\n",
    "\n",
    "# deleting elements from 1D arrays\n",
    "import numpy as np\n",
    "x = np.array([1,2,3,4])\n",
    "print(\"original: \",x)\n",
    "x = np.delete(x,[0,2])\n",
    "print(\"deleted: \",x)\n",
    "\n",
    "# deleting elements from 2D arrays\n",
    "import numpy as np\n",
    "y = np.array([[1,2],[3,4]])\n",
    "print(\"\\noriginal array:\\n\", y)\n",
    "\n",
    "y = np.delete(y, 0, axis=1)\n",
    "print(\"\\nupdated array:\\n\", y)\n",
    "\n",
    "z = np.array([[1,2],[3,4]])\n",
    "print(\"\\noriginal array:\\n\", y)\n",
    "\n",
    "z = np.delete(z, 0, axis=0)\n",
    "print(\"\\nupdated array:\\n\", z)"
   ]
  },
  {
   "cell_type": "code",
   "execution_count": 25,
   "id": "f7b2f191-0571-4e8b-9d4e-5452a72c782b",
   "metadata": {},
   "outputs": [
    {
     "name": "stdout",
     "output_type": "stream",
     "text": [
      "[3 1 2 4] \n",
      "\n",
      "[1 2 3 4]\n",
      "[1 2 3 4]\n",
      "\n",
      "\n",
      "original array: \n",
      " [[2 7 3]\n",
      " [8 3 5]\n",
      " [4 0 9]]\n",
      "\n",
      "sorted rows: \n",
      " [[2 3 7]\n",
      " [3 5 8]\n",
      " [0 4 9]]\n",
      "\n",
      "sorted columns: \n",
      " [[0 3 7]\n",
      " [2 4 8]\n",
      " [3 5 9]]\n"
     ]
    }
   ],
   "source": [
    "# sorting elements in arrays\n",
    "# np.sort\n",
    "# the axis is a bit tricky in the rows and columns part so look out for that\n",
    "\n",
    "import numpy as np\n",
    "x = np.array([3,1,2,4])\n",
    "print(x, \"\\n\")\n",
    "\n",
    "# when used as a function, the original array stays the same because new variable\n",
    "sort = np.sort(x)\n",
    "print(sort)\n",
    "\n",
    "# when used as a method, the original array changes\n",
    "x.sort()\n",
    "print(x)\n",
    "\n",
    "\n",
    "# sorting by rows and columns\n",
    "import numpy as np\n",
    "y = np.array([[2,7,3],[8,3,5],[4,0,9]])\n",
    "print(\"\\n\\noriginal array: \\n\", y)\n",
    "\n",
    "# sorting elements in rows\n",
    "y = np.sort(y, axis=1)\n",
    "print(\"\\nsorted rows: \\n\", y)\n",
    "\n",
    "# sorting elements in columns\n",
    "y = np.sort(y, axis=0)\n",
    "print(\"\\nsorted columns: \\n\", y)"
   ]
  },
  {
   "cell_type": "code",
   "execution_count": 26,
   "id": "88d5d256-7ec3-4f8f-b816-bd4525a66351",
   "metadata": {},
   "outputs": [
    {
     "name": "stdout",
     "output_type": "stream",
     "text": [
      "the mean of all elements:\n",
      " 4.555555555555555\n",
      "the mean of elements in rows:\n",
      " [4.         5.33333333 4.33333333]\n",
      "the mean of elements in columns:\n",
      " [4.66666667 3.33333333 5.66666667]\n"
     ]
    }
   ],
   "source": [
    "# math with numpy II\n",
    "# using mean, standard deviation and minimum/ maximum values\n",
    "# watch out for the axis parts\n",
    "\n",
    "import numpy as np\n",
    "y = np.array([[2,7,3],[8,3,5],[4,0,9]])\n",
    "\n",
    "# finding the mean of all the elements\n",
    "print(\"the mean of all elements:\\n\", y.mean())\n",
    "\n",
    "# find the mean of elements in the rows\n",
    "print(\"the mean of elements in rows:\\n\", y.mean(axis=1))\n",
    "\n",
    "# find the mean of elements in the columns\n",
    "print(\"the mean of elements in columns:\\n\", y.mean(axis=0))"
   ]
  },
  {
   "cell_type": "code",
   "execution_count": 27,
   "id": "f1b396f4-6d6e-4613-8636-74083e631f25",
   "metadata": {},
   "outputs": [
    {
     "name": "stdout",
     "output_type": "stream",
     "text": [
      "the SD of all elements: \n",
      " 2.7932900199947857 \n",
      "\n",
      "the SD of elements by row: \n",
      " [2.1602469  2.05480467 3.68178701] \n",
      "\n",
      "the SD of elements by column: \n",
      " [2.49443826 2.86744176 2.49443826] \n",
      "\n"
     ]
    }
   ],
   "source": [
    "# standard deviation\n",
    "# np.std\n",
    "\n",
    "import numpy as np\n",
    "y = np.array([[2,7,3],[8,3,5],[4,0,9]])\n",
    "\n",
    "# find the SD of all elements\n",
    "print(\"the SD of all elements: \\n\", np.std(y), \"\\n\")\n",
    "\n",
    "# find the SD of elements by row\n",
    "print(\"the SD of elements by row: \\n\", np.std(y,axis=1), \"\\n\")\n",
    "\n",
    "# find the SD of elements by column\n",
    "print(\"the SD of elements by column: \\n\", np.std(y,axis=0), \"\\n\")\n"
   ]
  },
  {
   "cell_type": "code",
   "execution_count": null,
   "id": "ce343bd0-60e8-48a9-bda8-a8d6fda13ccf",
   "metadata": {},
   "outputs": [],
   "source": []
  }
 ],
 "metadata": {
  "kernelspec": {
   "display_name": "Python 3 (ipykernel)",
   "language": "python",
   "name": "python3"
  },
  "language_info": {
   "codemirror_mode": {
    "name": "ipython",
    "version": 3
   },
   "file_extension": ".py",
   "mimetype": "text/x-python",
   "name": "python",
   "nbconvert_exporter": "python",
   "pygments_lexer": "ipython3",
   "version": "3.12.4"
  }
 },
 "nbformat": 4,
 "nbformat_minor": 5
}
