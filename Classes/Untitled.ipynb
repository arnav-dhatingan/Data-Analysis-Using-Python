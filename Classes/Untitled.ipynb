{
 "cells": [
  {
   "cell_type": "code",
   "execution_count": 2,
   "id": "996ce427-b63f-4293-b8a9-01a12aaa61df",
   "metadata": {},
   "outputs": [],
   "source": [
    "#panda select\n",
    "import pandas as pd\n",
    "import numpy as np"
   ]
  },
  {
   "cell_type": "code",
   "execution_count": 4,
   "id": "0bd66ba7-a33d-468b-9902-800e7db1cd3f",
   "metadata": {},
   "outputs": [
    {
     "name": "stdout",
     "output_type": "stream",
     "text": [
      "   List1\n",
      "0     10\n",
      "1     15\n",
      "2     18\n",
      "3     22\n"
     ]
    }
   ],
   "source": [
    "s=pd.Series([10,15,18,22])\n",
    "df=pd.DataFrame(s)\n",
    "df.columns=[\"List1\"]\n",
    "print(df)"
   ]
  },
  {
   "cell_type": "code",
   "execution_count": null,
   "id": "6fdcc81a-5c70-40fd-bf98-fae1e1394dde",
   "metadata": {},
   "outputs": [],
   "source": []
  }
 ],
 "metadata": {
  "kernelspec": {
   "display_name": "Python 3 (ipykernel)",
   "language": "python",
   "name": "python3"
  },
  "language_info": {
   "codemirror_mode": {
    "name": "ipython",
    "version": 3
   },
   "file_extension": ".py",
   "mimetype": "text/x-python",
   "name": "python",
   "nbconvert_exporter": "python",
   "pygments_lexer": "ipython3",
   "version": "3.12.4"
  }
 },
 "nbformat": 4,
 "nbformat_minor": 5
}
